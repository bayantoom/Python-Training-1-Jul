{
 "cells": [
  {
   "cell_type": "markdown",
   "metadata": {},
   "source": [
    "<div style=\"display: flex; align-items: center;\">\n",
    "    <img src=\"../img/es_logo.png\" alt=\"title\" style=\"margin-right: 20px;\">\n",
    "    <h1>File Handling and Serialization</h1>\n",
    "</div>"
   ]
  },
  {
   "cell_type": "markdown",
   "metadata": {},
   "source": [
    "#### Exercise 1:\n",
    "Write a python program that creates a file and writes the numbers from 1 to 10 each on a new line. Save your code in a file named `exercise1.py`"
   ]
  },
  {
   "cell_type": "code",
   "execution_count": 3,
   "metadata": {},
   "outputs": [],
   "source": [
    "file = open('exercise1.py','w')\n",
    "for i in range (1,11):\n",
    "    file.write(f\"{i}\\n\")\n",
    "\n",
    "file.close()\n"
   ]
  },
  {
   "cell_type": "markdown",
   "metadata": {},
   "source": [
    "#### Exercise 2:\n",
    "Write a python program that asks the user for input and appends the input to a file. The program should keep asking the user for input until the user enters the word \"stop\". Save your code in a file named `exercise2.py`"
   ]
  },
  {
   "cell_type": "code",
   "execution_count": 3,
   "metadata": {},
   "outputs": [],
   "source": [
    "with open('exercise2.py','a') as file:\n",
    "\n",
    "    while True:\n",
    "        i = input(\"Please enter your input: \")\n",
    "        if i == \"stop\":\n",
    "            break \n",
    "        file.write(i + '\\n')\n",
    "\n",
    "\n",
    "\n"
   ]
  },
  {
   "cell_type": "markdown",
   "metadata": {},
   "source": [
    "#### Exercise 3:\n",
    "Using pickle module, pickle the dictionary `book` and save it to a file. Then load the dictionary back from the file and print it."
   ]
  },
  {
   "cell_type": "code",
   "execution_count": 6,
   "metadata": {},
   "outputs": [
    {
     "name": "stdout",
     "output_type": "stream",
     "text": [
      "{'title': 'Head First Python', 'author': 'Paul Barry', 'price': '50 USD'}\n"
     ]
    }
   ],
   "source": [
    "import pickle\n",
    "\n",
    "\n",
    "book = {\"title\": \"Head First Python\", \"author\": \"Paul Barry\", \"price\": \"50 USD\"}\n",
    "\n",
    "with open('dict.pkl','wb') as file:\n",
    "    pickle.dump(book, file)\n",
    "\n",
    "with open('dict.pkl','rb') as file:\n",
    "    print(pickle.load(file))\n"
   ]
  }
 ],
 "metadata": {
  "kernelspec": {
   "display_name": "Python 3",
   "language": "python",
   "name": "python3"
  },
  "language_info": {
   "codemirror_mode": {
    "name": "ipython",
    "version": 3
   },
   "file_extension": ".py",
   "mimetype": "text/x-python",
   "name": "python",
   "nbconvert_exporter": "python",
   "pygments_lexer": "ipython3",
   "version": "3.12.3"
  }
 },
 "nbformat": 4,
 "nbformat_minor": 2
}
